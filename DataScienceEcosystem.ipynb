{
 "cells": [
  {
   "cell_type": "markdown",
   "id": "9e2c2135-2490-4c03-84ea-3b651a15c798",
   "metadata": {},
   "source": [
    "# Data Science Tools and Ecosystem\n"
   ]
  },
  {
   "cell_type": "markdown",
   "id": "95c373f8-e690-439e-88c9-5026e1779052",
   "metadata": {},
   "source": [
    "In this notebook, Data Science Tools and Ecosystem are summarized."
   ]
  },
  {
   "cell_type": "markdown",
   "id": "798c3972-fa74-49b9-8e1c-45002cde597f",
   "metadata": {},
   "source": [
    "Some of the popular languages that Data Scientists use are:"
   ]
  },
  {
   "cell_type": "markdown",
   "id": "cdb885ed-4e92-4fca-9263-072c0266a1e2",
   "metadata": {},
   "source": [
    "1. SQL\n",
    "2. Python\n",
    "3. R"
   ]
  },
  {
   "cell_type": "markdown",
   "id": "92c1b20a-5282-4a8a-8ab3-cc34ae966e55",
   "metadata": {},
   "source": [
    "Some of the commonly used libraries used by Data Scientists include:"
   ]
  },
  {
   "cell_type": "markdown",
   "id": "a0ae15f5-d942-431c-aaeb-54f6b50e3478",
   "metadata": {},
   "source": [
    "1. Numpy\n",
    "2. Pandas\n",
    "3. Sickit-learn\n",
    "4. Matplotlib"
   ]
  },
  {
   "cell_type": "markdown",
   "id": "7364ae5f-5b2d-4ecd-938b-8fa953c5e28e",
   "metadata": {},
   "source": [
    "| Data Science Tools |\n",
    "|--------------------|\n",
    "| Jupyter Notebook   |\n",
    "| RStudio            |\n",
    "| Visual Studio Code |"
   ]
  },
  {
   "cell_type": "markdown",
   "id": "fed53a68-81c7-4040-811c-4a7ca267732d",
   "metadata": {},
   "source": [
    "### Below are a few examples of evaluating arithmetic expressions in Python"
   ]
  },
  {
   "cell_type": "markdown",
   "id": "17e0765a-ff2d-4def-a820-fbc0217b7388",
   "metadata": {},
   "source": [
    "This a simple arithmetic expression to mutiply then add integers"
   ]
  },
  {
   "cell_type": "code",
   "execution_count": 35,
   "id": "f80d39e2-848c-4c13-b101-54f864847393",
   "metadata": {},
   "outputs": [
    {
     "data": {
      "text/plain": [
       "17"
      ]
     },
     "execution_count": 35,
     "metadata": {},
     "output_type": "execute_result"
    }
   ],
   "source": [
    "(3*4)+5"
   ]
  },
  {
   "cell_type": "markdown",
   "id": "11a6376d-beb3-4a20-b87c-299b435a8313",
   "metadata": {},
   "source": [
    "This will convert 200 minutes to hours by diving by 60"
   ]
  },
  {
   "cell_type": "code",
   "execution_count": 39,
   "id": "056330df-66c1-4caf-a10b-b04aa8692233",
   "metadata": {},
   "outputs": [
    {
     "data": {
      "text/plain": [
       "3.3333333333333335"
      ]
     },
     "execution_count": 39,
     "metadata": {},
     "output_type": "execute_result"
    }
   ],
   "source": [
    "200/60"
   ]
  },
  {
   "cell_type": "markdown",
   "id": "195d7bc3-4fe7-4e4c-868c-ed2e65e27531",
   "metadata": {},
   "source": [
    "**Objectives:**"
   ]
  },
  {
   "cell_type": "markdown",
   "id": "e4356c5c-be11-4d9d-bc61-34f445025bfb",
   "metadata": {},
   "source": [
    "- Python\n",
    "- R Language\n",
    "- Anaconda Platform\n",
    "- GitHub Workshop to store code as it is and in the branch\n",
    "- Jupyter Notebook\n",
    "- Open Source Data Analysis Platforms"
   ]
  },
  {
   "cell_type": "markdown",
   "id": "a5e01019-379e-48e4-9871-0c2c0540d364",
   "metadata": {},
   "source": [
    "## Author\n",
    "Salman Raza"
   ]
  },
  {
   "cell_type": "code",
   "execution_count": null,
   "id": "e2c3c9ba-4fa0-482c-8ebd-420dde0b5eee",
   "metadata": {},
   "outputs": [],
   "source": []
  }
 ],
 "metadata": {
  "kernelspec": {
   "display_name": "Python [conda env:base] *",
   "language": "python",
   "name": "conda-base-py"
  },
  "language_info": {
   "codemirror_mode": {
    "name": "ipython",
    "version": 3
   },
   "file_extension": ".py",
   "mimetype": "text/x-python",
   "name": "python",
   "nbconvert_exporter": "python",
   "pygments_lexer": "ipython3",
   "version": "3.12.7"
  }
 },
 "nbformat": 4,
 "nbformat_minor": 5
}
